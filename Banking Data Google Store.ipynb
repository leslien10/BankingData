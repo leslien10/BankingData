{
 "cells": [
  {
   "cell_type": "code",
   "execution_count": 1,
   "id": "6e948178",
   "metadata": {},
   "outputs": [
    {
     "name": "stdout",
     "output_type": "stream",
     "text": [
      "Collecting google-play-scraper\n",
      "  Downloading google_play_scraper-1.2.3-py3-none-any.whl (28 kB)\n",
      "Installing collected packages: google-play-scraper\n",
      "Successfully installed google-play-scraper-1.2.3\n",
      "Note: you may need to restart the kernel to use updated packages.\n"
     ]
    }
   ],
   "source": [
    "pip install google-play-scraper"
   ]
  },
  {
   "cell_type": "code",
   "execution_count": 1,
   "id": "1904bff9",
   "metadata": {},
   "outputs": [],
   "source": [
    "from google_play_scraper import app\n",
    "import pandas as pd\n",
    "import numpy as np"
   ]
  },
  {
   "cell_type": "code",
   "execution_count": 2,
   "id": "ef8d4175",
   "metadata": {},
   "outputs": [],
   "source": [
    "from google_play_scraper import Sort, reviews_all\n",
    "\n",
    "app_bank = {'Vietcombank': 'com.VCB','Vietinbank': 'com.vietinbank.ipay',\n",
    "            'BIDV': 'com.vnpay.bidv','Agribank': 'com.vnpay.Agribank3g',\n",
    "            'Techcombank': 'vn.com.techcombank.bb.app','MB Bank': 'com.mbmobile',\n",
    "            'TP Bank': 'com.tpb.mb.gprsandroid','VP Bank' :'com.vnpay.vpbankonline',\n",
    "            'VIB':'com.vn.vib.mobileapp','Sacombank': 'src.com.sacombank'}\n",
    "\n",
    "for bank in app_bank:\n",
    "    app_reviews = reviews_all(\n",
    "        app_bank[bank],\n",
    "        sleep_milliseconds=0, # defaults to 0\n",
    "        lang='vi', # defaults to 'en'\n",
    "        country='vn', # defaults to 'us'\n",
    "        sort=Sort.NEWEST, # defaults to Sort.MOST_RELEVANT\n",
    "    )\n",
    "    df_review = pd.DataFrame(np.array(app_reviews),columns=['review'])\n",
    "    df_review = df_review.join(pd.DataFrame(df_review.pop('review').tolist()))\n",
    "    df_review = df_review.rename(columns={\"at\": \"date\", \"content\": \"review\", \"score\": \"rating\", \n",
    "                                          \"replyContent\": \"developerResponse\", \"repliedAt\": \"ResponseDate\"})\n",
    "    df_review = df_review.drop('userImage', axis=1)\n",
    "    df_review.to_csv('/Users/leslie/Downloads/Banking Data/'+ bank +'_GoogleStore.csv')"
   ]
  },
  {
   "cell_type": "code",
   "execution_count": null,
   "id": "14d09b9e",
   "metadata": {},
   "outputs": [],
   "source": [
    "# Schedule the scrape_reviews function to run once a day at a specified time\n",
    "schedule.every().day.at(\"11:26\").do(app_reviews)\n",
    "\n",
    "# Keep the script running indefinitely\n",
    "while True:\n",
    "    schedule.run_pending()\n",
    "    time.sleep(1)"
   ]
  }
 ],
 "metadata": {
  "kernelspec": {
   "display_name": "Python 3 (ipykernel)",
   "language": "python",
   "name": "python3"
  },
  "language_info": {
   "codemirror_mode": {
    "name": "ipython",
    "version": 3
   },
   "file_extension": ".py",
   "mimetype": "text/x-python",
   "name": "python",
   "nbconvert_exporter": "python",
   "pygments_lexer": "ipython3",
   "version": "3.9.7"
  }
 },
 "nbformat": 4,
 "nbformat_minor": 5
}
